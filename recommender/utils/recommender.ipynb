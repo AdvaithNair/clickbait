{
 "metadata": {
  "language_info": {
   "codemirror_mode": {
    "name": "ipython",
    "version": 3
   },
   "file_extension": ".py",
   "mimetype": "text/x-python",
   "name": "python",
   "nbconvert_exporter": "python",
   "pygments_lexer": "ipython3",
   "version": "3.8.0-final"
  },
  "orig_nbformat": 2,
  "kernelspec": {
   "name": "python380jvsc74a57bd0082e9a3bcad0a290d0001e938aa60b99250c6c2ef33a923c00b70f9826caf4b7",
   "display_name": "Python 3.8.0 64-bit"
  },
  "metadata": {
   "interpreter": {
    "hash": "082e9a3bcad0a290d0001e938aa60b99250c6c2ef33a923c00b70f9826caf4b7"
   }
  }
 },
 "nbformat": 4,
 "nbformat_minor": 2,
 "cells": [
  {
   "cell_type": "code",
   "execution_count": 51,
   "metadata": {},
   "outputs": [],
   "source": [
    "import pandas as pd\n",
    "import scipy.sparse as sp\n",
    "from sklearn.metrics.pairwise import cosine_similarity\n",
    "from sklearn.feature_extraction.text import CountVectorizer, TfidfVectorizer\n",
    "import os"
   ]
  },
  {
   "cell_type": "code",
   "execution_count": 52,
   "metadata": {},
   "outputs": [],
   "source": [
    "video_id = '2kyS6SvSYSE'"
   ]
  },
  {
   "cell_type": "code",
   "execution_count": 53,
   "metadata": {},
   "outputs": [
    {
     "output_type": "execute_result",
     "data": {
      "text/plain": [
       "  Unnamed: 0     video_id                                              title  \\\n",
       "0         10  9wRQljFNDW8  dion lewis' 103-yd kick return td vs. denver! ...   \n",
       "1         36  Om_zGhJLZ5U     tl;dw - every dceu movie before justice league   \n",
       "2         41  goP4Z5wyOlM  iraq-iran earthquake: deadly tremor hits borde...   \n",
       "3         55  8NHA23f7LvU  jason momoa wows hugh grant with some dothraki...   \n",
       "4         76  IE-xepGLVt8  mayo clinic's first face transplant patient me...   \n",
       "\n",
       "            channel_title              publish_time  \\\n",
       "0                     NFL  2017-11-13T02:05:26.000Z   \n",
       "1          Screen Junkies  2017-11-12T18:00:03.000Z   \n",
       "2                BBC News  2017-11-12T21:16:40.000Z   \n",
       "3  The Graham Norton Show  2017-11-10T19:06:23.000Z   \n",
       "4             Mayo Clinic  2017-11-10T12:04:17.000Z   \n",
       "\n",
       "                                                tags      views    likes  \\\n",
       "0  ['NFL', 'Football', 'offense', 'defense', 'afc...    81377.0    655.0   \n",
       "1  ['screenjunkies', 'screen junkies', 'sj news',...   288922.0   7515.0   \n",
       "2  ['bbc', 'bbc news', 'news', 'iran', 'iran news...    34785.0    308.0   \n",
       "3  ['Graham Norton', 'Graham Norton Show Official...  1496225.0  16116.0   \n",
       "4  ['Mayo Clinic', 'Health Care (Issue)', 'Health...   237307.0   1896.0   \n",
       "\n",
       "   dislikes  comment_count                                  thumbnail_link  \\\n",
       "0      25.0          177.0  https://i.ytimg.com/vi/9wRQljFNDW8/default.jpg   \n",
       "1     792.0         2111.0  https://i.ytimg.com/vi/Om_zGhJLZ5U/default.jpg   \n",
       "2      26.0          413.0  https://i.ytimg.com/vi/goP4Z5wyOlM/default.jpg   \n",
       "3     236.0          605.0  https://i.ytimg.com/vi/8NHA23f7LvU/default.jpg   \n",
       "4      74.0          260.0  https://i.ytimg.com/vi/IE-xepGLVt8/default.jpg   \n",
       "\n",
       "                                         description  \n",
       "0  New England Patriots returner Dion Lewis blast...  \n",
       "1  With Justice League approaching fast we rewatc...  \n",
       "2  A strong 7.2-magnitude earthquake has rattled ...  \n",
       "3  I think Sarah Millican was very excited for th...  \n",
       "4  One and a half years after the surgery that tr...  "
      ],
      "text/html": "<div>\n<style scoped>\n    .dataframe tbody tr th:only-of-type {\n        vertical-align: middle;\n    }\n\n    .dataframe tbody tr th {\n        vertical-align: top;\n    }\n\n    .dataframe thead th {\n        text-align: right;\n    }\n</style>\n<table border=\"1\" class=\"dataframe\">\n  <thead>\n    <tr style=\"text-align: right;\">\n      <th></th>\n      <th>Unnamed: 0</th>\n      <th>video_id</th>\n      <th>title</th>\n      <th>channel_title</th>\n      <th>publish_time</th>\n      <th>tags</th>\n      <th>views</th>\n      <th>likes</th>\n      <th>dislikes</th>\n      <th>comment_count</th>\n      <th>thumbnail_link</th>\n      <th>description</th>\n    </tr>\n  </thead>\n  <tbody>\n    <tr>\n      <th>0</th>\n      <td>10</td>\n      <td>9wRQljFNDW8</td>\n      <td>dion lewis' 103-yd kick return td vs. denver! ...</td>\n      <td>NFL</td>\n      <td>2017-11-13T02:05:26.000Z</td>\n      <td>['NFL', 'Football', 'offense', 'defense', 'afc...</td>\n      <td>81377.0</td>\n      <td>655.0</td>\n      <td>25.0</td>\n      <td>177.0</td>\n      <td>https://i.ytimg.com/vi/9wRQljFNDW8/default.jpg</td>\n      <td>New England Patriots returner Dion Lewis blast...</td>\n    </tr>\n    <tr>\n      <th>1</th>\n      <td>36</td>\n      <td>Om_zGhJLZ5U</td>\n      <td>tl;dw - every dceu movie before justice league</td>\n      <td>Screen Junkies</td>\n      <td>2017-11-12T18:00:03.000Z</td>\n      <td>['screenjunkies', 'screen junkies', 'sj news',...</td>\n      <td>288922.0</td>\n      <td>7515.0</td>\n      <td>792.0</td>\n      <td>2111.0</td>\n      <td>https://i.ytimg.com/vi/Om_zGhJLZ5U/default.jpg</td>\n      <td>With Justice League approaching fast we rewatc...</td>\n    </tr>\n    <tr>\n      <th>2</th>\n      <td>41</td>\n      <td>goP4Z5wyOlM</td>\n      <td>iraq-iran earthquake: deadly tremor hits borde...</td>\n      <td>BBC News</td>\n      <td>2017-11-12T21:16:40.000Z</td>\n      <td>['bbc', 'bbc news', 'news', 'iran', 'iran news...</td>\n      <td>34785.0</td>\n      <td>308.0</td>\n      <td>26.0</td>\n      <td>413.0</td>\n      <td>https://i.ytimg.com/vi/goP4Z5wyOlM/default.jpg</td>\n      <td>A strong 7.2-magnitude earthquake has rattled ...</td>\n    </tr>\n    <tr>\n      <th>3</th>\n      <td>55</td>\n      <td>8NHA23f7LvU</td>\n      <td>jason momoa wows hugh grant with some dothraki...</td>\n      <td>The Graham Norton Show</td>\n      <td>2017-11-10T19:06:23.000Z</td>\n      <td>['Graham Norton', 'Graham Norton Show Official...</td>\n      <td>1496225.0</td>\n      <td>16116.0</td>\n      <td>236.0</td>\n      <td>605.0</td>\n      <td>https://i.ytimg.com/vi/8NHA23f7LvU/default.jpg</td>\n      <td>I think Sarah Millican was very excited for th...</td>\n    </tr>\n    <tr>\n      <th>4</th>\n      <td>76</td>\n      <td>IE-xepGLVt8</td>\n      <td>mayo clinic's first face transplant patient me...</td>\n      <td>Mayo Clinic</td>\n      <td>2017-11-10T12:04:17.000Z</td>\n      <td>['Mayo Clinic', 'Health Care (Issue)', 'Health...</td>\n      <td>237307.0</td>\n      <td>1896.0</td>\n      <td>74.0</td>\n      <td>260.0</td>\n      <td>https://i.ytimg.com/vi/IE-xepGLVt8/default.jpg</td>\n      <td>One and a half years after the surgery that tr...</td>\n    </tr>\n  </tbody>\n</table>\n</div>"
     },
     "metadata": {},
     "execution_count": 53
    }
   ],
   "source": [
    "video_data = pd.read_csv('../data/processed.csv')\n",
    "video_data['title'] = video_data['title'].str.lower()\n",
    "video_data.head(5)"
   ]
  },
  {
   "cell_type": "code",
   "execution_count": 67,
   "metadata": {},
   "outputs": [
    {
     "output_type": "execute_result",
     "data": {
      "text/plain": [
       "                                            combined\n",
       "0  NFL,['NFL', 'Football', 'offense', 'defense', ...\n",
       "1  Screen Junkies,['screenjunkies', 'screen junki...\n",
       "2  BBC News,['bbc', 'bbc news', 'news', 'iran', '...\n",
       "3  The Graham Norton Show,['Graham Norton', 'Grah...\n",
       "4  Mayo Clinic,['Mayo Clinic', 'Health Care (Issu..."
      ],
      "text/html": "<div>\n<style scoped>\n    .dataframe tbody tr th:only-of-type {\n        vertical-align: middle;\n    }\n\n    .dataframe tbody tr th {\n        vertical-align: top;\n    }\n\n    .dataframe thead th {\n        text-align: right;\n    }\n</style>\n<table border=\"1\" class=\"dataframe\">\n  <thead>\n    <tr style=\"text-align: right;\">\n      <th></th>\n      <th>combined</th>\n    </tr>\n  </thead>\n  <tbody>\n    <tr>\n      <th>0</th>\n      <td>NFL,['NFL', 'Football', 'offense', 'defense', ...</td>\n    </tr>\n    <tr>\n      <th>1</th>\n      <td>Screen Junkies,['screenjunkies', 'screen junki...</td>\n    </tr>\n    <tr>\n      <th>2</th>\n      <td>BBC News,['bbc', 'bbc news', 'news', 'iran', '...</td>\n    </tr>\n    <tr>\n      <th>3</th>\n      <td>The Graham Norton Show,['Graham Norton', 'Grah...</td>\n    </tr>\n    <tr>\n      <th>4</th>\n      <td>Mayo Clinic,['Mayo Clinic', 'Health Care (Issu...</td>\n    </tr>\n  </tbody>\n</table>\n</div>"
     },
     "metadata": {},
     "execution_count": 67
    }
   ],
   "source": [
    "combined_video_data = video_data.drop(columns=['video_id', 'title', 'publish_time', 'views', 'likes', 'dislikes', 'comment_count', 'thumbnail_link', 'description'])\n",
    "combined_video_data['combined'] = combined_video_data[combined_video_data.columns[1:3]].apply(lambda x: ','.join(x.dropna().astype(str)),axis=1)\n",
    "combined_video_data = combined_video_data.drop(columns=['tags','channel_title'])\n",
    "combined_video_data = combined_video_data.iloc[:,1:]\n",
    "combined_video_data.head(5)"
   ]
  },
  {
   "cell_type": "code",
   "execution_count": 68,
   "metadata": {},
   "outputs": [
    {
     "output_type": "execute_result",
     "data": {
      "text/plain": [
       "<6436x23942 sparse matrix of type '<class 'numpy.int64'>'\n",
       "\twith 139196 stored elements in Compressed Sparse Row format>"
      ]
     },
     "metadata": {},
     "execution_count": 68
    }
   ],
   "source": [
    "# Create Bag of Words Matrix for Tags\n",
    "count = CountVectorizer(stop_words='english')\n",
    "count_matrix = count.fit_transform(combined_video_data['combined'])\n",
    "count_matrix"
   ]
  },
  {
   "cell_type": "code",
   "execution_count": 69,
   "metadata": {},
   "outputs": [
    {
     "output_type": "execute_result",
     "data": {
      "text/plain": [
       "<6436x66329 sparse matrix of type '<class 'numpy.float64'>'\n",
       "\twith 460201 stored elements in Compressed Sparse Row format>"
      ]
     },
     "metadata": {},
     "execution_count": 69
    }
   ],
   "source": [
    "# Create TFIDF Matrix for Description\n",
    "# Use TFIDF since description words appearing less is more\n",
    "tfidf = TfidfVectorizer(stop_words='english')\n",
    "tfidf_matrix = tfidf.fit_transform(video_data['description'].values.astype('U'))\n",
    "tfidf_matrix"
   ]
  },
  {
   "cell_type": "code",
   "execution_count": 70,
   "metadata": {},
   "outputs": [
    {
     "output_type": "execute_result",
     "data": {
      "text/plain": [
       "array([[1.00000000e+00, 3.39740286e-04, 3.45938170e-04, ...,\n",
       "        3.44861649e-04, 2.18475090e-04, 1.36670494e-03],\n",
       "       [3.39740286e-04, 1.00000000e+00, 6.45338768e-02, ...,\n",
       "        2.47520136e-04, 6.22415771e-02, 1.15957837e-03],\n",
       "       [3.45938170e-04, 6.45338768e-02, 1.00000000e+00, ...,\n",
       "        2.95428492e-04, 1.17995611e-03, 7.96371598e-04],\n",
       "       ...,\n",
       "       [3.44861649e-04, 2.47520136e-04, 2.95428492e-04, ...,\n",
       "        1.00000000e+00, 2.72511611e-04, 1.26398343e-03],\n",
       "       [2.18475090e-04, 6.22415771e-02, 1.17995611e-03, ...,\n",
       "        2.72511611e-04, 1.00000000e+00, 5.86890802e-02],\n",
       "       [1.36670494e-03, 1.15957837e-03, 7.96371598e-04, ...,\n",
       "        1.26398343e-03, 5.86890802e-02, 1.00000000e+00]])"
      ]
     },
     "metadata": {},
     "execution_count": 70
    }
   ],
   "source": [
    "# Run Cosine Similarity on Sparse Matrix\n",
    "combine_sparse = sp.hstack([count_matrix, tfidf_matrix], format='csr')\n",
    "cosine_sim = cosine_similarity(combine_sparse, combine_sparse)\n",
    "cosine_sim"
   ]
  },
  {
   "cell_type": "code",
   "execution_count": 71,
   "metadata": {},
   "outputs": [],
   "source": [
    "transform_video_data = cosine_sim"
   ]
  },
  {
   "cell_type": "code",
   "execution_count": 72,
   "metadata": {},
   "outputs": [
    {
     "output_type": "execute_result",
     "data": {
      "text/plain": [
       "341"
      ]
     },
     "metadata": {},
     "execution_count": 72
    }
   ],
   "source": [
    "num_recs = 10\n",
    "\n",
    "# Get Video's Index from Video ID\n",
    "indices = pd.Series(video_data.index, index = video_data['video_id'])\n",
    "index = indices[video_id]\n",
    "index"
   ]
  },
  {
   "cell_type": "code",
   "execution_count": 73,
   "metadata": {
    "tags": []
   },
   "outputs": [
    {
     "output_type": "execute_result",
     "data": {
      "text/plain": [
       "[(256, 0.4706990744550658),\n",
       " (1625, 0.4665606722812171),\n",
       " (5590, 0.36981194253478966),\n",
       " (1159, 0.36310362510504895),\n",
       " (3290, 0.35926989874964016),\n",
       " (5288, 0.3577589898653427),\n",
       " (3493, 0.33564938914488596),\n",
       " (2609, 0.2943402133216258),\n",
       " (4344, 0.28582084284514575)]"
      ]
     },
     "metadata": {},
     "execution_count": 73
    }
   ],
   "source": [
    "sim_scores = list(enumerate(transform_video_data[index]))\n",
    "sim_scores = sorted(sim_scores, key=lambda x: x[1], reverse=True)\n",
    "sim_scores = sim_scores[1:num_recs]\n",
    "sim_scores"
   ]
  },
  {
   "cell_type": "code",
   "execution_count": 74,
   "metadata": {},
   "outputs": [
    {
     "output_type": "execute_result",
     "data": {
      "text/plain": [
       "               id                                              title  \\\n",
       "256   vWYyZMH_QjA                casey neistat made a video about me   \n",
       "1625  a7NJ6Gek9v4  all time greatest airplane seat - emirates fir...   \n",
       "5590  og3aFSeEm94                                     just smack it.   \n",
       "1159  GcbsIv3QdFs                   it's here!!! casey neistat merch   \n",
       "3290  lfIhBu0TZBs                                moving on from beme   \n",
       "5288  HQiDKE85P3U           some thoughts on the shooting at youtube   \n",
       "3493  sXe2fzd8als  'martin' cast reunites, plays it coy about tv ...   \n",
       "2609  2dkl0fUKHAM  inside ricky martin's serene los angeles home ...   \n",
       "4344  e-XM8pek6Kg                      ricky martin - fiebre (audio)   \n",
       "\n",
       "                                                   tags               channel  \\\n",
       "256   ['galexy note 8', 'samsung creators', 'neistat...       Shantell Martin   \n",
       "1625                           ['Emirates first class']          CaseyNeistat   \n",
       "5590                                         ['[none]']          CaseyNeistat   \n",
       "1159                                         ['[none]']          CaseyNeistat   \n",
       "3290                                         ['[none]']          CaseyNeistat   \n",
       "5288                                         ['[none]']          CaseyNeistat   \n",
       "3493  ['TMZ', 'Hollywood', 'Celebrity', 'Entertainme...                   TMZ   \n",
       "2609  ['ricky martin', 'jwan yosef', 'ricky martin 2...  Architectural Digest   \n",
       "4344  ['Ricky Martin Music', 'Ricky Martin Official ...       RickyMartinVEVO   \n",
       "\n",
       "                          date  \\\n",
       "256   2017-11-13T17:26:03.000Z   \n",
       "1625  2017-12-11T23:45:03.000Z   \n",
       "5590  2018-04-20T15:47:24.000Z   \n",
       "1159  2017-12-03T16:40:05.000Z   \n",
       "3290  2018-01-25T14:58:16.000Z   \n",
       "5288  2018-04-04T18:48:42.000Z   \n",
       "3493  2018-02-02T13:59:44.000Z   \n",
       "2609  2018-01-09T13:00:44.000Z   \n",
       "4344  2018-02-23T05:00:00.000Z   \n",
       "\n",
       "                                           thumbnail  \\\n",
       "256   https://i.ytimg.com/vi/vWYyZMH_QjA/default.jpg   \n",
       "1625  https://i.ytimg.com/vi/a7NJ6Gek9v4/default.jpg   \n",
       "5590  https://i.ytimg.com/vi/og3aFSeEm94/default.jpg   \n",
       "1159  https://i.ytimg.com/vi/GcbsIv3QdFs/default.jpg   \n",
       "3290  https://i.ytimg.com/vi/lfIhBu0TZBs/default.jpg   \n",
       "5288  https://i.ytimg.com/vi/HQiDKE85P3U/default.jpg   \n",
       "3493  https://i.ytimg.com/vi/sXe2fzd8als/default.jpg   \n",
       "2609  https://i.ytimg.com/vi/2dkl0fUKHAM/default.jpg   \n",
       "4344  https://i.ytimg.com/vi/e-XM8pek6Kg/default.jpg   \n",
       "\n",
       "                                            description  \n",
       "256   I've know Casey for years now and we have want...  \n",
       "1625  MY DOPE MERCH - https://shopcaseyneistat.com/\\...  \n",
       "5590  DAN! https://www.youtube.com/DanmaceMusic: Bla...  \n",
       "1159  https://shopcaseyneistat.com\\nhttps://shopcase...  \n",
       "3290  this is hard for me.  i rerecorded this video ...  \n",
       "5288  https://nyti.ms/2q1IjTV\\nhttps://wapo.st/2GvQR...  \n",
       "3493  The cast of Martin is back together -- just fo...  \n",
       "2609  Superstar singer Ricky Martin -- who plays Ant...  \n",
       "4344  Ricky Martin - Fiebre (Audio)\\n“Fiebre”is now ...  "
      ],
      "text/html": "<div>\n<style scoped>\n    .dataframe tbody tr th:only-of-type {\n        vertical-align: middle;\n    }\n\n    .dataframe tbody tr th {\n        vertical-align: top;\n    }\n\n    .dataframe thead th {\n        text-align: right;\n    }\n</style>\n<table border=\"1\" class=\"dataframe\">\n  <thead>\n    <tr style=\"text-align: right;\">\n      <th></th>\n      <th>id</th>\n      <th>title</th>\n      <th>tags</th>\n      <th>channel</th>\n      <th>date</th>\n      <th>thumbnail</th>\n      <th>description</th>\n    </tr>\n  </thead>\n  <tbody>\n    <tr>\n      <th>256</th>\n      <td>vWYyZMH_QjA</td>\n      <td>casey neistat made a video about me</td>\n      <td>['galexy note 8', 'samsung creators', 'neistat...</td>\n      <td>Shantell Martin</td>\n      <td>2017-11-13T17:26:03.000Z</td>\n      <td>https://i.ytimg.com/vi/vWYyZMH_QjA/default.jpg</td>\n      <td>I've know Casey for years now and we have want...</td>\n    </tr>\n    <tr>\n      <th>1625</th>\n      <td>a7NJ6Gek9v4</td>\n      <td>all time greatest airplane seat - emirates fir...</td>\n      <td>['Emirates first class']</td>\n      <td>CaseyNeistat</td>\n      <td>2017-12-11T23:45:03.000Z</td>\n      <td>https://i.ytimg.com/vi/a7NJ6Gek9v4/default.jpg</td>\n      <td>MY DOPE MERCH - https://shopcaseyneistat.com/\\...</td>\n    </tr>\n    <tr>\n      <th>5590</th>\n      <td>og3aFSeEm94</td>\n      <td>just smack it.</td>\n      <td>['[none]']</td>\n      <td>CaseyNeistat</td>\n      <td>2018-04-20T15:47:24.000Z</td>\n      <td>https://i.ytimg.com/vi/og3aFSeEm94/default.jpg</td>\n      <td>DAN! https://www.youtube.com/DanmaceMusic: Bla...</td>\n    </tr>\n    <tr>\n      <th>1159</th>\n      <td>GcbsIv3QdFs</td>\n      <td>it's here!!! casey neistat merch</td>\n      <td>['[none]']</td>\n      <td>CaseyNeistat</td>\n      <td>2017-12-03T16:40:05.000Z</td>\n      <td>https://i.ytimg.com/vi/GcbsIv3QdFs/default.jpg</td>\n      <td>https://shopcaseyneistat.com\\nhttps://shopcase...</td>\n    </tr>\n    <tr>\n      <th>3290</th>\n      <td>lfIhBu0TZBs</td>\n      <td>moving on from beme</td>\n      <td>['[none]']</td>\n      <td>CaseyNeistat</td>\n      <td>2018-01-25T14:58:16.000Z</td>\n      <td>https://i.ytimg.com/vi/lfIhBu0TZBs/default.jpg</td>\n      <td>this is hard for me.  i rerecorded this video ...</td>\n    </tr>\n    <tr>\n      <th>5288</th>\n      <td>HQiDKE85P3U</td>\n      <td>some thoughts on the shooting at youtube</td>\n      <td>['[none]']</td>\n      <td>CaseyNeistat</td>\n      <td>2018-04-04T18:48:42.000Z</td>\n      <td>https://i.ytimg.com/vi/HQiDKE85P3U/default.jpg</td>\n      <td>https://nyti.ms/2q1IjTV\\nhttps://wapo.st/2GvQR...</td>\n    </tr>\n    <tr>\n      <th>3493</th>\n      <td>sXe2fzd8als</td>\n      <td>'martin' cast reunites, plays it coy about tv ...</td>\n      <td>['TMZ', 'Hollywood', 'Celebrity', 'Entertainme...</td>\n      <td>TMZ</td>\n      <td>2018-02-02T13:59:44.000Z</td>\n      <td>https://i.ytimg.com/vi/sXe2fzd8als/default.jpg</td>\n      <td>The cast of Martin is back together -- just fo...</td>\n    </tr>\n    <tr>\n      <th>2609</th>\n      <td>2dkl0fUKHAM</td>\n      <td>inside ricky martin's serene los angeles home ...</td>\n      <td>['ricky martin', 'jwan yosef', 'ricky martin 2...</td>\n      <td>Architectural Digest</td>\n      <td>2018-01-09T13:00:44.000Z</td>\n      <td>https://i.ytimg.com/vi/2dkl0fUKHAM/default.jpg</td>\n      <td>Superstar singer Ricky Martin -- who plays Ant...</td>\n    </tr>\n    <tr>\n      <th>4344</th>\n      <td>e-XM8pek6Kg</td>\n      <td>ricky martin - fiebre (audio)</td>\n      <td>['Ricky Martin Music', 'Ricky Martin Official ...</td>\n      <td>RickyMartinVEVO</td>\n      <td>2018-02-23T05:00:00.000Z</td>\n      <td>https://i.ytimg.com/vi/e-XM8pek6Kg/default.jpg</td>\n      <td>Ricky Martin - Fiebre (Audio)\\n“Fiebre”is now ...</td>\n    </tr>\n  </tbody>\n</table>\n</div>"
     },
     "metadata": {},
     "execution_count": 74
    }
   ],
   "source": [
    "# Get Indices of Similar Scores\n",
    "recommended_indices = [i[0] for i in sim_scores]\n",
    "\n",
    "# Grab Data from Indices\n",
    "video_id = video_data['video_id'].iloc[recommended_indices]\n",
    "video_title = video_data['title'].iloc[recommended_indices]\n",
    "video_tags = video_data['tags'].iloc[recommended_indices]\n",
    "video_channel = video_data['channel_title'].iloc[recommended_indices]\n",
    "video_time = video_data['publish_time'].iloc[recommended_indices]\n",
    "video_thumbnail = video_data['thumbnail_link'].iloc[recommended_indices]\n",
    "video_description = video_data['description'].iloc[recommended_indices]\n",
    "\n",
    "# Throw Data into DataFrame to return\n",
    "recommended_data = pd.DataFrame(columns=['id','title','tags', 'channel', 'date', 'thumbnail', 'description'])\n",
    "recommended_data['id'] = video_id\n",
    "recommended_data['title'] = video_title\n",
    "recommended_data['tags'] = video_tags\n",
    "recommended_data['channel'] = video_channel\n",
    "recommended_data['date'] = video_time\n",
    "recommended_data['thumbnail'] = video_thumbnail\n",
    "recommended_data['description'] = video_description\n",
    "\n",
    "recommended_data"
   ]
  },
  {
   "cell_type": "code",
   "execution_count": null,
   "metadata": {},
   "outputs": [],
   "source": []
  }
 ]
}